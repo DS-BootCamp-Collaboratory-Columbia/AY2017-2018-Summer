{
 "cells": [
  {
   "cell_type": "markdown",
   "metadata": {},
   "source": [
    "# Introduction to Python"
   ]
  },
  {
   "cell_type": "markdown",
   "metadata": {
    "slideshow": {
     "slide_type": "slide"
    }
   },
   "source": [
    "# Import necessary packages and change directory\n",
    "- As with R we have to import the packages we want before using them\n",
    "- We will also change the directory and show the files in the directory"
   ]
  },
  {
   "cell_type": "code",
   "execution_count": 1,
   "metadata": {
    "slideshow": {
     "slide_type": "subslide"
    }
   },
   "outputs": [
    {
     "name": "stdout",
     "output_type": "stream",
     "text": [
      "['.RData', '.Rhistory', '2015_median_annual_hosehold_income.tsv', '2015_monthly_average_of_person_participating_in_food_stamp_program.tsv', '2016_presidential_election_results.tsv', 'carter.pdf', 'Day1.zip', 'iran_ner.txt', 'jabberwocky.csv', 'lazarus.csv', 'legis.html', 'nyt.html', 'population_by_state.tsv', 'preselect', 'python', 'R', 'raven.do', 'ravenraw.csv', 'ravenraw.dta', 'senate115.xml', 'state_abbreviations.tsv', 'test.html', 'test.Rmd', 'trade76.csv', 'tradesetup.do', 'tradetext.csv', 'tradetext.tab', 'trtext.dta', 'wits.xml']\n"
     ]
    }
   ],
   "source": [
    "import numpy as np\n",
    "import pandas as pd\n",
    "import matplotlib.pyplot as plt\n",
    "import os\n",
    "\n",
    "os.chdir\n",
    "#os.chdir('/mnt/c/Users/arpie71/Dropbox/Columbia/workshop')\n",
    "os.chdir('c:/Users/arpie71/Dropbox/Columbia/workshop')\n",
    "print(os.listdir('data/.'))"
   ]
  },
  {
   "cell_type": "markdown",
   "metadata": {
    "slideshow": {
     "slide_type": "slide"
    }
   },
   "source": [
    "# Load data \n",
    "- We will next bring in the csv files using read_csv (which is slightly different than R's read.csv)\n",
    "- Then we will ask for the length of the sa (State Abbreviations) data\n",
    "- Then the shape\n",
    "- There is not a width functin so that crashes"
   ]
  },
  {
   "cell_type": "code",
   "execution_count": 2,
   "metadata": {
    "slideshow": {
     "slide_type": "subslide"
    }
   },
   "outputs": [
    {
     "name": "stdout",
     "output_type": "stream",
     "text": [
      "51\n",
      "(51, 2)\n"
     ]
    }
   ],
   "source": [
    "elec_data = pd.read_csv('data/2016_presidential_election_results.tsv', delimiter='\\t')\n",
    "fs_data = pd.read_csv('data/2015_monthly_average_of_person_participating_in_food_stamp_program.tsv', delimiter='\\t')\n",
    "income_data = pd.read_csv('data/2015_median_annual_hosehold_income.tsv', delimiter='\\t')\n",
    "\n",
    "sa = pd.read_csv('data/state_abbreviations.tsv', delimiter='\\t')\n",
    "census_data = pd.read_csv('data/population_by_state.tsv', delimiter='\\t')\n",
    "print(len(sa))\n",
    "print(sa.shape)\n",
    "#print(width(sa))"
   ]
  },
  {
   "cell_type": "markdown",
   "metadata": {
    "slideshow": {
     "slide_type": "slide"
    }
   },
   "source": [
    "# Column names and head\n",
    "- We will next see the names of columns in the data\n",
    "- Then get the first 5 rows of data"
   ]
  },
  {
   "cell_type": "code",
   "execution_count": 3,
   "metadata": {
    "slideshow": {
     "slide_type": "subslide"
    }
   },
   "outputs": [
    {
     "name": "stdout",
     "output_type": "stream",
     "text": [
      "Index(['State', 'Sum', 'Dem_EV', 'Rep_EV', 'Unalloc_EV', 'Clinton', 'Trump',\n",
      "       'Johnson', 'Other'],\n",
      "      dtype='object')\n",
      "        State       Sum  Dem_EV  Rep_EV  Unalloc_EV  Clinton    Trump  \\\n",
      "0     Alabama   2123372       0       9           0   729547  1318255   \n",
      "1      Alaska    318608       0       3           0   116454   163387   \n",
      "2     Arizona   2604657       0      11           0  1161167  1252401   \n",
      "3    Arkansas   1130635       0       6           0   380494   684872   \n",
      "4  California  14237884      55       0           0  8753788  4483810   \n",
      "\n",
      "   Johnson   Other  \n",
      "0    44467   31103  \n",
      "1    18725   20042  \n",
      "2   106327   84762  \n",
      "3    29829   35440  \n",
      "4   478500  521786  \n"
     ]
    }
   ],
   "source": [
    "print(elec_data.columns)\n",
    "print(elec_data.head(n=5))"
   ]
  },
  {
   "cell_type": "code",
   "execution_count": 4,
   "metadata": {},
   "outputs": [
    {
     "name": "stdout",
     "output_type": "stream",
     "text": [
      "0     False\n",
      "1     False\n",
      "2     False\n",
      "3     False\n",
      "4     False\n",
      "5     False\n",
      "6     False\n",
      "7     False\n",
      "8     False\n",
      "9     False\n",
      "10    False\n",
      "11    False\n",
      "12    False\n",
      "13    False\n",
      "14    False\n",
      "15    False\n",
      "16    False\n",
      "17    False\n",
      "18    False\n",
      "19    False\n",
      "20    False\n",
      "21    False\n",
      "22    False\n",
      "23    False\n",
      "24    False\n",
      "25    False\n",
      "26    False\n",
      "27    False\n",
      "28    False\n",
      "29    False\n",
      "30     True\n",
      "31    False\n",
      "32    False\n",
      "33    False\n",
      "34    False\n",
      "35    False\n",
      "36    False\n",
      "37    False\n",
      "38    False\n",
      "39    False\n",
      "40    False\n",
      "41    False\n",
      "42    False\n",
      "43    False\n",
      "44    False\n",
      "45    False\n",
      "46    False\n",
      "47    False\n",
      "48    False\n",
      "49    False\n",
      "50    False\n",
      "Name: State, dtype: bool\n"
     ]
    }
   ],
   "source": [
    "print(elec_data['State']=='New Jersey')"
   ]
  },
  {
   "cell_type": "markdown",
   "metadata": {
    "slideshow": {
     "slide_type": "slide"
    }
   },
   "source": [
    "# Referring to individual rows\n",
    "- Here we show how to refer to an individual row and then to all or specific columns of that row"
   ]
  },
  {
   "cell_type": "code",
   "execution_count": 5,
   "metadata": {
    "slideshow": {
     "slide_type": "subslide"
    }
   },
   "outputs": [
    {
     "name": "stdout",
     "output_type": "stream",
     "text": [
      "         State      Sum  Dem_EV  Rep_EV  Unalloc_EV  Clinton    Trump  \\\n",
      "30  New Jersey  3906723      14       0           0  2148278  1601933   \n",
      "\n",
      "    Johnson  Other  \n",
      "30    72477  84035  \n",
      " \n",
      "['New Jersey', 3906723, 14, 0, 0, 2148278, 1601933, 72477, 84035]\n",
      " \n",
      "30    3906723\n",
      "Name: Sum, dtype: int64\n",
      " \n",
      "        Sum  Clinton    Trump\n",
      "30  3906723  2148278  1601933\n"
     ]
    }
   ],
   "source": [
    "print(elec_data.loc[elec_data['State']=='New Jersey'])\n",
    "print(\" \")\n",
    "print(list(elec_data.loc[30]))\n",
    "print(\" \")\n",
    "print(elec_data['Sum'].loc[elec_data['State']=='New Jersey'])\n",
    "print(\" \")\n",
    "print(elec_data[['Sum','Clinton','Trump']].loc[elec_data['State']=='New Jersey'])\n"
   ]
  },
  {
   "cell_type": "markdown",
   "metadata": {
    "slideshow": {
     "slide_type": "slide"
    }
   },
   "source": [
    "# Showing output\n",
    "\n",
    "- We can do neat things with Python to output data\n"
   ]
  },
  {
   "cell_type": "code",
   "execution_count": 6,
   "metadata": {
    "slideshow": {
     "slide_type": "subslide"
    }
   },
   "outputs": [
    {
     "data": {
      "text/plain": [
       "65844954"
      ]
     },
     "execution_count": 6,
     "metadata": {},
     "output_type": "execute_result"
    }
   ],
   "source": [
    "elec_data['Clinton'].sum()"
   ]
  },
  {
   "cell_type": "code",
   "execution_count": 7,
   "metadata": {
    "slideshow": {
     "slide_type": "subslide"
    }
   },
   "outputs": [
    {
     "ename": "TypeError",
     "evalue": "must be str, not numpy.int64",
     "output_type": "error",
     "traceback": [
      "\u001b[1;31m---------------------------------------------------------------------------\u001b[0m",
      "\u001b[1;31mTypeError\u001b[0m                                 Traceback (most recent call last)",
      "\u001b[1;32m<ipython-input-7-2477581c43f3>\u001b[0m in \u001b[0;36m<module>\u001b[1;34m()\u001b[0m\n\u001b[1;32m----> 1\u001b[1;33m \u001b[0mprint\u001b[0m\u001b[1;33m(\u001b[0m\u001b[1;34m\"Clinton received \"\u001b[0m\u001b[1;33m+\u001b[0m \u001b[0melec_data\u001b[0m\u001b[1;33m[\u001b[0m\u001b[1;34m'Clinton'\u001b[0m\u001b[1;33m]\u001b[0m\u001b[1;33m.\u001b[0m\u001b[0msum\u001b[0m\u001b[1;33m(\u001b[0m\u001b[1;33m)\u001b[0m\u001b[1;33m+\u001b[0m\u001b[1;34m\" votes\"\u001b[0m\u001b[1;33m)\u001b[0m\u001b[1;33m\u001b[0m\u001b[0m\n\u001b[0m",
      "\u001b[1;31mTypeError\u001b[0m: must be str, not numpy.int64"
     ]
    }
   ],
   "source": [
    "print(\"Clinton received \"+ elec_data['Clinton'].sum()+\" votes\")"
   ]
  },
  {
   "cell_type": "code",
   "execution_count": null,
   "metadata": {
    "slideshow": {
     "slide_type": "subslide"
    }
   },
   "outputs": [],
   "source": [
    "print(\"Clinton received \"+ str(elec_data['Clinton'].sum())+\" votes\")"
   ]
  },
  {
   "cell_type": "markdown",
   "metadata": {
    "slideshow": {
     "slide_type": "slide"
    }
   },
   "source": [
    "# Merging data\n",
    "- We will use pandas to merge data\n",
    "- Data are all in pandas dataframe\n",
    "- Then we will get the shape of the data and list the columns"
   ]
  },
  {
   "cell_type": "code",
   "execution_count": null,
   "metadata": {
    "slideshow": {
     "slide_type": "subslide"
    }
   },
   "outputs": [],
   "source": [
    "# merging data\n",
    "df = pd.merge(elec_data, fs_data, on='State')\n",
    "df = pd.merge(df, sa, on='State')\n",
    "df = pd.merge(df, income_data, on='State')\n",
    "df = pd.merge(df, census_data , on = 'State')\n",
    "print(df.shape)\n",
    "print(df.columns)\n"
   ]
  },
  {
   "cell_type": "markdown",
   "metadata": {
    "slideshow": {
     "slide_type": "slide"
    }
   },
   "source": [
    "# Merge 2\n",
    "- just for fun I also merged the data in within a loop"
   ]
  },
  {
   "cell_type": "code",
   "execution_count": null,
   "metadata": {
    "slideshow": {
     "slide_type": "subslide"
    }
   },
   "outputs": [],
   "source": [
    "files = (fs_data,income_data, sa, census_data)\n",
    "print(type(files))\n",
    "df2 = elec_data\n",
    "for f in files:\n",
    "    #print(\"The file is: %s\" % (str(f),))\n",
    "    #print(str(f))\n",
    "    df2 = pd.merge(df2,f , on = 'State')\n",
    "    df2.shape"
   ]
  },
  {
   "cell_type": "markdown",
   "metadata": {
    "slideshow": {
     "slide_type": "slide"
    }
   },
   "source": [
    "# Creating new variables\n",
    "- Now that the data is all merged we will create some new variables. \n",
    "- We refer to the column names of the data and then can perform operations on them\n",
    "\n",
    "- Here we create a variable called tcdif by subtracting Clinton's vote total by state from Trump's."
   ]
  },
  {
   "cell_type": "code",
   "execution_count": null,
   "metadata": {
    "slideshow": {
     "slide_type": "subslide"
    }
   },
   "outputs": [],
   "source": [
    "df['tcdif']=df['Trump']-df['Clinton']\n",
    "df['Trump_perc']=df['Trump']/(df['Clinton']+df['Trump']+df['Johnson'])\n",
    "df['fs_perc']=df['Participation']/df['Population']\n",
    "df['vote_perc']=(df['Clinton']+df['Trump']+df['Johnson'])/df['Population']\n",
    "df['Trump_win']=(df['Trump']>df['Clinton'])\n",
    "\n",
    "df.head(n=5)"
   ]
  },
  {
   "cell_type": "markdown",
   "metadata": {
    "slideshow": {
     "slide_type": "slide"
    }
   },
   "source": [
    "# Save data \n",
    "\n",
    "- Finally we will save the data to use for later"
   ]
  },
  {
   "cell_type": "code",
   "execution_count": null,
   "metadata": {
    "slideshow": {
     "slide_type": "slide"
    }
   },
   "outputs": [],
   "source": [
    "df.to_pickle('data/preselect')"
   ]
  },
  {
   "cell_type": "code",
   "execution_count": null,
   "metadata": {},
   "outputs": [],
   "source": []
  }
 ],
 "metadata": {
  "celltoolbar": "Slideshow",
  "kernelspec": {
   "display_name": "Python 3",
   "language": "python",
   "name": "python3"
  },
  "language_info": {
   "codemirror_mode": {
    "name": "ipython",
    "version": 3
   },
   "file_extension": ".py",
   "mimetype": "text/x-python",
   "name": "python",
   "nbconvert_exporter": "python",
   "pygments_lexer": "ipython3",
   "version": "3.6.4"
  }
 },
 "nbformat": 4,
 "nbformat_minor": 2
}
