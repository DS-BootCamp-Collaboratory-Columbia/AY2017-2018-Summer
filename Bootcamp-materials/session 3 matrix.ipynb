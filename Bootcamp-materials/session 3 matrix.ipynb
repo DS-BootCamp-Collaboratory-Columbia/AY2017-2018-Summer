{
 "cells": [
  {
   "cell_type": "code",
   "execution_count": 1,
   "metadata": {
    "slideshow": {
     "slide_type": "skip"
    }
   },
   "outputs": [],
   "source": [
    "import numpy as np\n",
    "from numpy import array as arr\n",
    "import matplotlib.pyplot as plt"
   ]
  },
  {
   "cell_type": "markdown",
   "metadata": {
    "slideshow": {
     "slide_type": "fragment"
    }
   },
   "source": [
    " # Linear Regression\n",
    "\n",
    "Here we explore fitting a linear regression to data using ordinary least squares (OLS).\n",
    "\n",
    "We use simulated data for practice. The data $X$ are simulated as follows:\n",
    "\n",
    "$Y = 0.1 X^3 + 0.5 X^2 + 10.2 X - 21 + \\epsilon \\;\\;$ where $\\epsilon \\sim \\mathcal{N}(0,5)$\n",
    "\n",
    "In words, the dependent variable equals a third order polynomial (cubic) of the one-dimensional independent variable plus Gaussian noise. Below is the cubic $f$ and the function sim_data that simulates the data:"
   ]
  },
  {
   "cell_type": "code",
   "execution_count": 2,
   "metadata": {
    "slideshow": {
     "slide_type": "fragment"
    }
   },
   "outputs": [],
   "source": [
    "def f(x): return 0.1*x**3 + 0.5*x**2 + 10.2*x - 21.\n",
    "\n",
    "def sim_data(seed=0):\n",
    "    np.random.seed(seed)\n",
    "    min_x, max_x, stepsize = -10, 10, 0.1\n",
    "    #independent var (does not have to be uniformly space in general):\n",
    "    X = arr([np.arange(min_x, max_x, stepsize)]).T\n",
    "    #(N,_) = X.shape\n",
    "    Y = f(X) + np.random.normal(0,5,size=np.shape(X)) #dependent var\n",
    "    return X,Y"
   ]
  },
  {
   "cell_type": "markdown",
   "metadata": {
    "slideshow": {
     "slide_type": "slide"
    }
   },
   "source": [
    "# Plotting \n",
    "First we will plot the simulated data. The dependent variable which we commonly call Y is on the y-axis and the independent variable X is on the x-axis."
   ]
  },
  {
   "cell_type": "code",
   "execution_count": 3,
   "metadata": {
    "slideshow": {
     "slide_type": "fragment"
    }
   },
   "outputs": [
    {
     "data": {
      "image/png": "[encoded data removed]",
      "text/plain": [
       "<matplotlib.figure.Figure at 0x208045dc358>"
      ]
     },
     "metadata": {},
     "output_type": "display_data"
    }
   ],
   "source": [
    "X,Y = sim_data()\n",
    "plt.xlabel(\"x\")\n",
    "plt.ylabel(\"y\")\n",
    "plt.scatter(X,Y,marker='x')\n",
    "plt.show()"
   ]
  },
  {
   "cell_type": "markdown",
   "metadata": {
    "slideshow": {
     "slide_type": "slide"
    }
   },
   "source": [
    "# Adding an intercept column to the independent variables\n",
    "\n",
    "We add a new column of ones to the independent array X that allows OLS to use an intercept/systematic bias."
   ]
  },
  {
   "cell_type": "code",
   "execution_count": 4,
   "metadata": {
    "slideshow": {
     "slide_type": "fragment"
    }
   },
   "outputs": [
    {
     "name": "stdout",
     "output_type": "stream",
     "text": [
      "X1 (first 10 rows):\n",
      " [[  1.  -10. ]\n",
      " [  1.   -9.9]\n",
      " [  1.   -9.8]\n",
      " [  1.   -9.7]\n",
      " [  1.   -9.6]\n",
      " [  1.   -9.5]\n",
      " [  1.   -9.4]\n",
      " [  1.   -9.3]\n",
      " [  1.   -9.2]\n",
      " [  1.   -9.1]]\n",
      "<class 'numpy.ndarray'>\n"
     ]
    }
   ],
   "source": [
    "(N,D) = X.shape\n",
    "X1 = np.hstack((np.ones((N,1)), X))\n",
    "print('X1 (first 10 rows):\\n',X1[:10,:])\n",
    "print(type(X1))"
   ]
  },
  {
   "cell_type": "markdown",
   "metadata": {
    "slideshow": {
     "slide_type": "slide"
    }
   },
   "source": [
    "\n",
    "# Ordinary Least Squares\n",
    "\n",
    "Recall the basic assumption of linear regression: ${\\bf Y} = {\\bf X}^\\top \\beta + \\epsilon$ where $\\epsilon$ is drawn i.i.d. from a normal distribution.\n",
    "\n",
    "OLS fits this model by minimizing the sum of squared errors in linear regression. \n",
    "\n",
    "OLS calculates the unknown coefficients $\\beta$ from data as follows:\n",
    "\n",
    "$\\beta = ({\\bf X}^\\top {\\bf X})^{-1} {\\bf X}^\\top {\\bf Y}$\n",
    "\n",
    "We will calculate $\\beta$ using this equation. \n",
    "First, remember that when multiplying by matrixes, the inner dimensions must be the same. \n",
    "In the end we also want to have a vector equal to the number of coefficients--in this case 2. \n",
    "So first we multiply the transpose of X by X. The transpose is just the matrix with the columns and rows switched. \n",
    "Since our X matrix is 200,2 the transpose will have the shape 2,200.\n",
    "Multiplying the transpose by the X matrix gives us a 2, 2 matrix.\n",
    "\n",
    "The inverse of a matrix is more difficult to explain. Essentially, when the inverse of a matrix is multiplied by the non-inversed matrix, it returns the identity matrix. The identity matrix is a matrix where the diagonal elements are equal to 1 and the off-diagonal elements are equal to zero. \n",
    "The inverse will have the same dimensions so we still have a 2,2 matrix. \n"
   ]
  },
  {
   "cell_type": "code",
   "execution_count": 5,
   "metadata": {
    "slideshow": {
     "slide_type": "slide"
    }
   },
   "outputs": [
    {
     "name": "stdout",
     "output_type": "stream",
     "text": [
      "(200, 2)\n",
      "(2, 200)\n",
      "[[-4.18277421]\n",
      " [16.10346643]]\n",
      "Coefficient on X is  16.10346642623628\n",
      "[[1. 0.]\n",
      " [0. 1.]]\n"
     ]
    }
   ],
   "source": [
    "mX1 = np.asmatrix(X1)\n",
    "print(mX1.shape)\n",
    "print(np.transpose(mX1).shape)\n",
    "XX = np.matmul(np.transpose(mX1),mX1)\n",
    "XX2 = np.matmul(XX.I,np.transpose(mX1))\n",
    "b = np.matmul(XX2,Y)\n",
    "print(b)\n",
    "#XX2= np.transpose(XX2)\n",
    "print(\"Coefficient on X is \" ,b.item(1))\n",
    "XXi =XX.I\n",
    "i = np.matmul(XX,XXi)\n",
    "print(i)"
   ]
  },
  {
   "cell_type": "markdown",
   "metadata": {},
   "source": [
    "# Warning\n",
    "However, be aware that it is better to avoid matrix inversions in practice, as it can be a numerically unstable operation. In this case, the premultiplier to ${\\bf Y}$ is known as the Moore-Penrose psuedoinverse of ${\\bf X}$:\n",
    "\n",
    "${\\bf M} = ({\\bf X}^\\top {\\bf X})^{-1} {\\bf X}^\\top$\n",
    "\n",
    "and there is a function in the numpy package that can calculate it:"
   ]
  },
  {
   "cell_type": "code",
   "execution_count": 6,
   "metadata": {},
   "outputs": [
    {
     "name": "stdout",
     "output_type": "stream",
     "text": [
      "Manual inversion of matrix  [[-4.18277421]\n",
      " [16.10346643]]\n",
      "Numpy package inversion  [[-4.18277421]\n",
      " [16.10346643]]\n"
     ]
    }
   ],
   "source": [
    "M = np.linalg.pinv(X1)\n",
    "b2 = np.matmul(M,Y)\n",
    "print(\"Manual inversion of matrix \", b2)\n",
    "#print(str(b2[0]),str(b2[1]))\n",
    "print(\"Numpy package inversion \", b)"
   ]
  },
  {
   "cell_type": "markdown",
   "metadata": {},
   "source": [
    "# Predicting Y\n",
    "Now that we have the coefficients, we can calculate other summary statistics. $\\hat{Y}$ is the predicted value of Y based on the fit of our regression model. To calculate the values, we multiply our X values by the coefficients in the model.\n",
    "In general,\n",
    "$\\hat{Y} = \\beta*X1+\\beta*X2$\n",
    "for as many independent variables as we have in the model."
   ]
  },
  {
   "cell_type": "code",
   "execution_count": 7,
   "metadata": {},
   "outputs": [
    {
     "name": "stdout",
     "output_type": "stream",
     "text": [
      "[[-164.17973827]\n",
      " [-168.00411396]\n",
      " [-162.16551008]\n",
      " [-152.957834  ]\n",
      " [-151.97581005]]\n"
     ]
    },
    {
     "data": {
      "text/plain": [
       "array([[-165.21743848],\n",
       "       [-163.60709183],\n",
       "       [-161.99674519],\n",
       "       [-160.38639855],\n",
       "       [-158.7760519 ]])"
      ]
     },
     "execution_count": 7,
     "metadata": {},
     "output_type": "execute_result"
    }
   ],
   "source": [
    "Y_hat = np.dot(X1, b2)\n",
    "print(Y[:5,:])\n",
    "Y_hat[:5,:]"
   ]
  },
  {
   "cell_type": "code",
   "execution_count": 8,
   "metadata": {},
   "outputs": [
    {
     "data": {
      "text/plain": [
       "[<matplotlib.lines.Line2D at 0x20806f26438>]"
      ]
     },
     "execution_count": 8,
     "metadata": {},
     "output_type": "execute_result"
    },
    {
     "data": {
      "image/png": "[encoded data removed]",
      "text/plain": [
       "<matplotlib.figure.Figure at 0x20806f26ac8>"
      ]
     },
     "metadata": {},
     "output_type": "display_data"
    }
   ],
   "source": [
    "#now plot the original data and the linear regression fit:\n",
    "plt.scatter(X1[:,1],Y,marker='x')\n",
    "plt.plot(X1[:,1],Y_hat)"
   ]
  },
  {
   "cell_type": "markdown",
   "metadata": {},
   "source": [
    "# Residuals\n",
    "We can also use $\\hat{Y}$ to calculate the residuals from the model. The residuals are, as we've discussed, the difference between the actual and the predicted values of Y. Positive residual values indicate that the model underpredicted Y and negative values that it underpredicted Y.\n",
    "\n",
    "The total variance of Y in the data (or total sum of squares) can be attributed the explained sum of squares (ESS) and the residual sum of squares (RSS). The residual sum of squares is:\n",
    "$$\\sum_{i=1}^{n} (Y-\\hat{Y})^2$$\n",
    "\n",
    "We will use epsilon ($\\epsilon$) for  residuals where\n",
    "\n",
    "$\\epsilon = (Y-\\hat{Y})$\n"
   ]
  },
  {
   "cell_type": "code",
   "execution_count": null,
   "metadata": {},
   "outputs": [],
   "source": [
    "residuals = (Y - Y_hat)\n",
    "SR = residuals**2\n",
    "print('Residual sum of squares', SR.sum())\n",
    "print('Mean squared error of residuals', SR.sum()/(N-D-1))\n",
    "print(\"The sum of residuals is\",\"{0:.4f}\".format(residuals.sum()))"
   ]
  },
  {
   "cell_type": "raw",
   "metadata": {},
   "source": [
    "# $r^2$\n",
    "Now we can also calculate the total variance of Y and the explained sum of squares. These form the basis for $r^2$ or the coefficient of determination. It is simply the explained variance divided by the total variance or how much of the variance is explained by our model.\n",
    "In most cases, $r^2$ will range between 0 and 1 though in some really poorly fit models it might be below 0. A value of 1 means that the model is a perfect fit while a value of 0 means a horrible fit. \n",
    "People have moved away from $r^2$ in recent years. It doesn't tell us much about the \n"
   ]
  },
  {
   "cell_type": "code",
   "execution_count": 10,
   "metadata": {},
   "outputs": [
    {
     "name": "stdout",
     "output_type": "stream",
     "text": [
      "total_var, explained_var, r-squared:\n",
      " 9086.707864556905 8643.838263338126 0.9512618202521718\n"
     ]
    }
   ],
   "source": [
    "total_var = Y.var()\n",
    "explained_var = total_var - (residuals**2).sum()/float(N)\n",
    "r2 = explained_var / total_var\n",
    "print('total_var, explained_var, r-squared:\\n', total_var, explained_var, r2)"
   ]
  },
  {
   "cell_type": "code",
   "execution_count": 11,
   "metadata": {},
   "outputs": [
    {
     "data": {
      "text/plain": [
       "Text(0,0.5,'frequency')"
      ]
     },
     "execution_count": 11,
     "metadata": {},
     "output_type": "execute_result"
    },
    {
     "data": {
      "image/png": "[encoded data removed]",
      "text/plain": [
       "<matplotlib.figure.Figure at 0x208045e1dd8>"
      ]
     },
     "metadata": {},
     "output_type": "display_data"
    }
   ],
   "source": [
    "plt.hist(residuals)\n",
    "plt.xlabel('error')\n",
    "plt.ylabel('frequency')"
   ]
  },
  {
   "cell_type": "markdown",
   "metadata": {},
   "source": [
    "# Comparison with Python package\n",
    "\n",
    "Now we will compare our results with the Python package statsmodels. "
   ]
  },
  {
   "cell_type": "code",
   "execution_count": 12,
   "metadata": {},
   "outputs": [
    {
     "name": "stderr",
     "output_type": "stream",
     "text": [
      "C:\\ProgramData\\Anaconda3\\lib\\site-packages\\statsmodels\\compat\\pandas.py:56: FutureWarning: The pandas.core.datetools module is deprecated and will be removed in a future version. Please use the pandas.tseries module instead.\n",
      "  from pandas.core import datetools\n"
     ]
    },
    {
     "name": "stdout",
     "output_type": "stream",
     "text": [
      "[-4.18277421 16.10346643]\n"
     ]
    }
   ],
   "source": [
    "import statsmodels.api as sm\n",
    "import statsmodels.formula.api as smf\n",
    "model = sm.OLS(Y,X1).fit()\n",
    "# Print out the statistics\n",
    "print(model.params)"
   ]
  },
  {
   "cell_type": "code",
   "execution_count": 13,
   "metadata": {},
   "outputs": [
    {
     "name": "stdout",
     "output_type": "stream",
     "text": [
      "                            OLS Regression Results                            \n",
      "==============================================================================\n",
      "Dep. Variable:                      y   R-squared:                       0.951\n",
      "Model:                            OLS   Adj. R-squared:                  0.951\n",
      "Method:                 Least Squares   F-statistic:                     3865.\n",
      "Date:                Tue, 08 May 2018   Prob (F-statistic):          7.29e-132\n",
      "Time:                        20:56:05   Log-Likelihood:                -893.12\n",
      "No. Observations:                 200   AIC:                             1790.\n",
      "Df Residuals:                     198   BIC:                             1797.\n",
      "Df Model:                           1                                         \n",
      "Covariance Type:            nonrobust                                         \n",
      "==============================================================================\n",
      "                 coef    std err          t      P>|t|      [0.025      0.975]\n",
      "------------------------------------------------------------------------------\n",
      "const         -4.1828      1.496     -2.797      0.006      -7.132      -1.233\n",
      "x1            16.1035      0.259     62.165      0.000      15.593      16.614\n",
      "==============================================================================\n",
      "Omnibus:                       37.536   Durbin-Watson:                   0.115\n",
      "Prob(Omnibus):                  0.000   Jarque-Bera (JB):               59.972\n",
      "Skew:                           1.013   Prob(JB):                     9.49e-14\n",
      "Kurtosis:                       4.759   Cond. No.                         5.77\n",
      "==============================================================================\n",
      "\n",
      "Warnings:\n",
      "[1] Standard Errors assume that the covariance matrix of the errors is correctly specified.\n",
      "The Mean squared error of residuals is 447.34303153412003\n"
     ]
    }
   ],
   "source": [
    "print(model.summary())\n",
    "print(\"The Mean squared error of residuals is \"+ str(model.mse_resid))\n"
   ]
  },
  {
   "cell_type": "markdown",
   "metadata": {},
   "source": [
    "# Calculating standard errors\n",
    "The statsmodels output has a feature that we have not calculated: The standard errors of the coefficients. \n",
    "To calculate this we need a couple of things. The first is based on the residual sum of squares but it is divided by the degrees of freedom in the data. Using this we can then calculate the variance-covariance matrix. \n",
    "Then we take the square root of each of the diagonal elements of the variance covariance matrix to get the standard errors. "
   ]
  },
  {
   "cell_type": "code",
   "execution_count": 14,
   "metadata": {},
   "outputs": [
    {
     "name": "stdout",
     "output_type": "stream",
     "text": [
      "[[447.34303153]]\n",
      "[1.49562125 0.25904272]\n"
     ]
    }
   ],
   "source": [
    "\n",
    "dsig=sum(np.square(Y-np.matmul(mX1,b)))/(mX1.shape[0]-mX1.shape[1])\n",
    "print(dsig)\n",
    "vcv=np.dot(np.asscalar(dsig),np.linalg.inv(np.matmul(np.transpose(mX1),mX1)))\n",
    "print(np.sqrt(np.diag(vcv)))"
   ]
  },
  {
   "cell_type": "code",
   "execution_count": null,
   "metadata": {},
   "outputs": [],
   "source": []
  },
  {
   "cell_type": "code",
   "execution_count": null,
   "metadata": {},
   "outputs": [],
   "source": []
  },
  {
   "cell_type": "code",
   "execution_count": null,
   "metadata": {},
   "outputs": [],
   "source": []
  },
  {
   "cell_type": "code",
   "execution_count": null,
   "metadata": {},
   "outputs": [],
   "source": [
    "\n"
   ]
  },
  {
   "cell_type": "code",
   "execution_count": null,
   "metadata": {},
   "outputs": [],
   "source": []
  },
  {
   "cell_type": "code",
   "execution_count": 15,
   "metadata": {},
   "outputs": [
    {
     "data": {
      "text/plain": [
       "Text(0,0.5,'residual error')"
      ]
     },
     "execution_count": 15,
     "metadata": {},
     "output_type": "execute_result"
    },
    {
     "data": {
      "image/png": "[encoded data removed]",
      "text/plain": [
       "<matplotlib.figure.Figure at 0x2080a54bd30>"
      ]
     },
     "metadata": {},
     "output_type": "display_data"
    }
   ],
   "source": [
    "plt.scatter(X,residuals)\n",
    "plt.xlabel('x')\n",
    "plt.ylabel('residual error')"
   ]
  },
  {
   "cell_type": "code",
   "execution_count": null,
   "metadata": {},
   "outputs": [],
   "source": []
  }
 ],
 "metadata": {
  "celltoolbar": "Slideshow",
  "kernelspec": {
   "display_name": "Python 3",
   "language": "python",
   "name": "python3"
  },
  "language_info": {
   "codemirror_mode": {
    "name": "ipython",
    "version": 3
   },
   "file_extension": ".py",
   "mimetype": "text/x-python",
   "name": "python",
   "nbconvert_exporter": "python",
   "pygments_lexer": "ipython3",
   "version": "3.6.4"
  }
 },
 "nbformat": 4,
 "nbformat_minor": 2
}
