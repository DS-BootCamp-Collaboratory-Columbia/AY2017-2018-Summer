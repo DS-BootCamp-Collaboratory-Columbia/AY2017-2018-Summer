{
 "cells": [
  {
   "cell_type": "markdown",
   "metadata": {
    "slideshow": {
     "slide_type": "slide"
    }
   },
   "source": [
    "# Regression in Python\n",
    "\n",
    "We will now go over how to do OLS in Python. \n",
    "As before the first step will be to load the relevant packages and open the file. "
   ]
  },
  {
   "cell_type": "code",
   "execution_count": 1,
   "metadata": {
    "slideshow": {
     "slide_type": "subslide"
    }
   },
   "outputs": [
    {
     "name": "stdout",
     "output_type": "stream",
     "text": [
      "<class 'pandas.core.frame.DataFrame'>\n",
      "169\n"
     ]
    }
   ],
   "source": [
    "import numpy as np\n",
    "import pandas as pd\n",
    "import matplotlib.pyplot as plt\n",
    "import os\n",
    "from scipy import stats\n",
    "\n",
    "os.chdir('c:/Users/arpie71/Dropbox/Columbia/workshop/data')\n",
    "trade76 = pd.read_csv('trade76.csv', delimiter=',')\n",
    "print(type(trade76))\n",
    "print(len(trade76))"
   ]
  },
  {
   "cell_type": "markdown",
   "metadata": {},
   "source": [
    "# First look at the data\n",
    "We will first look at the first 5 rows of the data and then summarize a couple of variables."
   ]
  },
  {
   "cell_type": "code",
   "execution_count": 2,
   "metadata": {
    "slideshow": {
     "slide_type": "slide"
    }
   },
   "outputs": [
    {
     "name": "stdout",
     "output_type": "stream",
     "text": [
      "   year  bdis  bexp  bpro  btio  ecsm  eewt  estc  etrd  ettc       ...        \\\n",
      "0  1976     0     0     0     0     0     0     0     0     0       ...         \n",
      "1  1976     0     0     0     0     0     0     0     0     0       ...         \n",
      "2  1976     6   108    13    10     0    25    46   829     0       ...         \n",
      "3  1976     0     1     1     0     0     0     2    13     0       ...         \n",
      "4  1976     0    14     2     1     0     0     5    10     0       ...         \n",
      "\n",
      "   contig  comlang_off  col45  gatt_d   lndistw        lnX        lnM  \\\n",
      "0     0.0          0.0    0.0     0.0  8.360339   1.386294   2.079442   \n",
      "1     0.0          0.0    0.0     0.0  8.732820        NaN        NaN   \n",
      "2     1.0          1.0    0.0     1.0  7.640266  10.090341  10.224375   \n",
      "3     0.0          1.0    0.0     0.0  7.913258   4.369448   1.386294   \n",
      "4     0.0          1.0    0.0     0.0  7.778533   5.293305   6.556778   \n",
      "\n",
      "       lngdp  lnpromote  lntradepromcab  \n",
      "0   5.483881   0.000000       -4.356709  \n",
      "1        NaN   0.000000       -2.639057  \n",
      "2  12.236897   4.882802       -4.178992  \n",
      "3   5.956614   1.098612       -4.598481  \n",
      "4   6.464744   2.890372       -4.016383  \n",
      "\n",
      "[5 rows x 25 columns]\n",
      "4.703721861159421\n",
      "3.615136930769231\n",
      "7.6492162\n",
      "0      42\n",
      "3      16\n",
      "2      14\n",
      "1      13\n",
      "6      10\n",
      "5       9\n",
      "7       8\n",
      "8       6\n",
      "4       6\n",
      "11      5\n",
      "10      4\n",
      "9       4\n",
      "21      4\n",
      "14      3\n",
      "13      3\n",
      "12      3\n",
      "23      2\n",
      "18      2\n",
      "34      2\n",
      "16      2\n",
      "208     1\n",
      "76      1\n",
      "17      1\n",
      "19      1\n",
      "22      1\n",
      "25      1\n",
      "26      1\n",
      "30      1\n",
      "35      1\n",
      "37      1\n",
      "15      1\n",
      "Name: bpro, dtype: int64\n",
      "Table of GATT membership\n",
      " 0.0    82\n",
      "1.0    80\n",
      "Name: gatt_d, dtype: int64\n",
      "         year        bdis         bexp        bpro        btio   ecsm  \\\n",
      "count   169.0  169.000000   169.000000  169.000000  169.000000  169.0   \n",
      "mean   1976.0    6.461538   114.627219    7.964497   22.065089    0.0   \n",
      "std       0.0   17.619321   181.500451   18.141932   63.973966    0.0   \n",
      "min    1976.0    0.000000     0.000000    0.000000    0.000000    0.0   \n",
      "25%    1976.0    0.000000     5.000000    1.000000    0.000000    0.0   \n",
      "50%    1976.0    2.000000    42.000000    3.000000    4.000000    0.0   \n",
      "75%    1976.0    7.000000   148.000000    9.000000   14.000000    0.0   \n",
      "max    1976.0  199.000000  1350.000000  208.000000  714.000000    0.0   \n",
      "\n",
      "             eewt        estc         etrd        ettc       ...        \\\n",
      "count  169.000000  169.000000   169.000000  169.000000       ...         \n",
      "mean    13.745562   39.088757   103.224852    0.011834       ...         \n",
      "std     53.939674  113.866716   170.717733    0.153846       ...         \n",
      "min      0.000000    0.000000     0.000000    0.000000       ...         \n",
      "25%      0.000000    0.000000    10.000000    0.000000       ...         \n",
      "50%      1.000000    3.000000    36.000000    0.000000       ...         \n",
      "75%      4.000000   18.000000   137.000000    0.000000       ...         \n",
      "max    494.000000  854.000000  1408.000000    2.000000       ...         \n",
      "\n",
      "           contig  comlang_off       col45      gatt_d     lndistw  \\\n",
      "count  162.000000   162.000000  162.000000  162.000000  162.000000   \n",
      "mean     0.012346     0.308642    0.006173    0.493827    9.052448   \n",
      "std      0.110766     0.463365    0.078567    0.501512    0.481464   \n",
      "min      0.000000     0.000000    0.000000    0.000000    7.640266   \n",
      "25%      0.000000     0.000000    0.000000    0.000000    8.899798   \n",
      "50%      0.000000     0.000000    0.000000    0.000000    9.147495   \n",
      "75%      0.000000     1.000000    0.000000    1.000000    9.420867   \n",
      "max      1.000000     1.000000    1.000000    1.000000    9.709092   \n",
      "\n",
      "              lnX         lnM       lngdp   lnpromote  lntradepromcab  \n",
      "count  138.000000  133.000000  145.000000  169.000000      169.000000  \n",
      "mean     4.703722    4.778980    8.361582    3.615137       -3.393727  \n",
      "std      2.235675    2.339451    2.233807    2.016924        1.145153  \n",
      "min      0.000000    0.000000    3.312366    0.000000       -8.720134  \n",
      "25%      3.156340    3.332205    6.693665    1.945910       -4.013923  \n",
      "50%      4.897812    5.051137    8.153218    4.043051       -3.222678  \n",
      "75%      6.208022    6.397096    9.784412    5.170484       -2.639057  \n",
      "max     10.090341   10.224375   13.309259    7.649216       -0.916291  \n",
      "\n",
      "[8 rows x 25 columns]\n",
      "count    162.000000\n",
      "mean       9.052448\n",
      "std        0.481464\n",
      "min        7.640266\n",
      "25%        8.899798\n",
      "50%        9.147495\n",
      "75%        9.420867\n",
      "max        9.709092\n",
      "Name: lndistw, dtype: float64\n"
     ]
    }
   ],
   "source": [
    "print(trade76.head(n=5))\n",
    "print(np.mean(trade76.lnX.astype(float)))\n",
    "print(np.mean(trade76.lnpromote.astype(float)))\n",
    "print(np.ptp(trade76.lnpromote.astype(float)))\n",
    "print(trade76.bpro.value_counts())\n",
    "print(\"Table of GATT membership\\n\",trade76.gatt_d.value_counts())\n",
    "print(trade76.describe())\n",
    "print(trade76.lndistw.describe())\n",
    "\n"
   ]
  },
  {
   "cell_type": "markdown",
   "metadata": {
    "slideshow": {
     "slide_type": "slide"
    }
   },
   "source": [
    "# Graph\n",
    "We saw this figure earlier but it was done in R.\n",
    "This is done in Python. \n",
    "We are just plotting Exports and Trade promotion. "
   ]
  },
  {
   "cell_type": "code",
   "execution_count": 3,
   "metadata": {
    "slideshow": {
     "slide_type": "subslide"
    }
   },
   "outputs": [
    {
     "data": {
      "image/png": "[encoded data removed]",
      "text/plain": [
       "<matplotlib.figure.Figure at 0x153cbf2a940>"
      ]
     },
     "metadata": {},
     "output_type": "display_data"
    }
   ],
   "source": [
    "plt.xlabel(\"Trade promotion\")\n",
    "plt.ylabel(\"Exports\")\n",
    "plt.scatter(trade76['lnpromote'],trade76['lnX'],marker='x')\n",
    "plt.show()"
   ]
  },
  {
   "cell_type": "markdown",
   "metadata": {
    "slideshow": {
     "slide_type": "slide"
    }
   },
   "source": [
    "# Regression code\n",
    "Now we get to the actual regression code. \n",
    "Different ways to do regression in Python. \n",
    "Statsmodels seems to be preferred way now. \n",
    "Syntax is very much like R. "
   ]
  },
  {
   "cell_type": "code",
   "execution_count": 4,
   "metadata": {
    "slideshow": {
     "slide_type": "subslide"
    }
   },
   "outputs": [
    {
     "name": "stderr",
     "output_type": "stream",
     "text": [
      "C:\\ProgramData\\Anaconda3\\lib\\site-packages\\statsmodels\\compat\\pandas.py:56: FutureWarning: The pandas.core.datetools module is deprecated and will be removed in a future version. Please use the pandas.tseries module instead.\n",
      "  from pandas.core import datetools\n"
     ]
    },
    {
     "data": {
      "text/html": [
       "<table class=\"simpletable\">\n",
       "<caption>Generalized Linear Model Regression Results</caption>\n",
       "<tr>\n",
       "  <th>Dep. Variable:</th>         <td>lnX</td>       <th>  No. Observations:  </th>       <td>   130</td>      \n",
       "</tr>\n",
       "<tr>\n",
       "  <th>Model:</th>                 <td>GLM</td>       <th>  Df Residuals:      </th>       <td>   122</td>      \n",
       "</tr>\n",
       "<tr>\n",
       "  <th>Model Family:</th>       <td>Gaussian</td>     <th>  Df Model:          </th>       <td>     7</td>      \n",
       "</tr>\n",
       "<tr>\n",
       "  <th>Link Function:</th>      <td>identity</td>     <th>  Scale:             </th> <td>0.8675750483597361</td>\n",
       "</tr>\n",
       "<tr>\n",
       "  <th>Method:</th>               <td>IRLS</td>       <th>  Log-Likelihood:    </th>      <td> -171.10</td>     \n",
       "</tr>\n",
       "<tr>\n",
       "  <th>Date:</th>           <td>Tue, 22 May 2018</td> <th>  Deviance:          </th>      <td>  105.84</td>     \n",
       "</tr>\n",
       "<tr>\n",
       "  <th>Time:</th>               <td>16:58:59</td>     <th>  Pearson chi2:      </th>       <td>  106.</td>      \n",
       "</tr>\n",
       "<tr>\n",
       "  <th>No. Iterations:</th>         <td>2</td>        <th>                     </th>          <td> </td>        \n",
       "</tr>\n",
       "</table>\n",
       "<table class=\"simpletable\">\n",
       "<tr>\n",
       "       <td></td>          <th>coef</th>     <th>std err</th>      <th>z</th>      <th>P>|z|</th>  <th>[0.025</th>    <th>0.975]</th>  \n",
       "</tr>\n",
       "<tr>\n",
       "  <th>Intercept</th>   <td>    9.5469</td> <td>    1.691</td> <td>    5.646</td> <td> 0.000</td> <td>    6.233</td> <td>   12.861</td>\n",
       "</tr>\n",
       "<tr>\n",
       "  <th>lnpromote</th>   <td>    0.2939</td> <td>    0.068</td> <td>    4.295</td> <td> 0.000</td> <td>    0.160</td> <td>    0.428</td>\n",
       "</tr>\n",
       "<tr>\n",
       "  <th>contig</th>      <td>   -0.5200</td> <td>    0.738</td> <td>   -0.704</td> <td> 0.481</td> <td>   -1.967</td> <td>    0.927</td>\n",
       "</tr>\n",
       "<tr>\n",
       "  <th>comlang_off</th> <td>    0.6209</td> <td>    0.192</td> <td>    3.232</td> <td> 0.001</td> <td>    0.244</td> <td>    0.997</td>\n",
       "</tr>\n",
       "<tr>\n",
       "  <th>col45</th>       <td>    0.8367</td> <td>    0.960</td> <td>    0.871</td> <td> 0.384</td> <td>   -1.046</td> <td>    2.719</td>\n",
       "</tr>\n",
       "<tr>\n",
       "  <th>gatt_d</th>      <td>   -0.0984</td> <td>    0.176</td> <td>   -0.561</td> <td> 0.575</td> <td>   -0.442</td> <td>    0.246</td>\n",
       "</tr>\n",
       "<tr>\n",
       "  <th>lndistw</th>     <td>   -1.4551</td> <td>    0.187</td> <td>   -7.796</td> <td> 0.000</td> <td>   -1.821</td> <td>   -1.089</td>\n",
       "</tr>\n",
       "<tr>\n",
       "  <th>lngdp</th>       <td>    0.8192</td> <td>    0.058</td> <td>   14.048</td> <td> 0.000</td> <td>    0.705</td> <td>    0.934</td>\n",
       "</tr>\n",
       "</table>"
      ],
      "text/plain": [
       "<class 'statsmodels.iolib.summary.Summary'>\n",
       "\"\"\"\n",
       "                 Generalized Linear Model Regression Results                  \n",
       "==============================================================================\n",
       "Dep. Variable:                    lnX   No. Observations:                  130\n",
       "Model:                            GLM   Df Residuals:                      122\n",
       "Model Family:                Gaussian   Df Model:                            7\n",
       "Link Function:               identity   Scale:              0.8675750483597361\n",
       "Method:                          IRLS   Log-Likelihood:                -171.10\n",
       "Date:                Tue, 22 May 2018   Deviance:                       105.84\n",
       "Time:                        16:58:59   Pearson chi2:                     106.\n",
       "No. Iterations:                     2                                         \n",
       "===============================================================================\n",
       "                  coef    std err          z      P>|z|      [0.025      0.975]\n",
       "-------------------------------------------------------------------------------\n",
       "Intercept       9.5469      1.691      5.646      0.000       6.233      12.861\n",
       "lnpromote       0.2939      0.068      4.295      0.000       0.160       0.428\n",
       "contig         -0.5200      0.738     -0.704      0.481      -1.967       0.927\n",
       "comlang_off     0.6209      0.192      3.232      0.001       0.244       0.997\n",
       "col45           0.8367      0.960      0.871      0.384      -1.046       2.719\n",
       "gatt_d         -0.0984      0.176     -0.561      0.575      -0.442       0.246\n",
       "lndistw        -1.4551      0.187     -7.796      0.000      -1.821      -1.089\n",
       "lngdp           0.8192      0.058     14.048      0.000       0.705       0.934\n",
       "===============================================================================\n",
       "\"\"\""
      ]
     },
     "execution_count": 4,
     "metadata": {},
     "output_type": "execute_result"
    }
   ],
   "source": [
    "import statsmodels.api as sm\n",
    "import statsmodels.formula.api as smf\n",
    "\n",
    "Y = trade76['lnX']\n",
    "#X=trade76[['lnpromote','lngdp']]\n",
    "#mod2 = sm.OLS(Y,X, hasconst=0).fit()\n",
    "model = smf.glm('lnX~lnpromote+ contig+comlang_off + col45+gatt_d+lndistw + lngdp', data = trade76).fit()\n",
    "# Print out the statistics\n",
    "\n",
    "model.summary()\n",
    "#mod2.summary()"
   ]
  },
  {
   "cell_type": "markdown",
   "metadata": {
    "slideshow": {
     "slide_type": "slide"
    }
   },
   "source": [
    "# Summary statistics\n",
    "Now we can view some summary statistics.\n",
    "Like R, Python stores the predicted values and residuals so we do not need to calculate them ourselves.\n",
    "Also, here Python is using an maximum likelihood estimation"
   ]
  },
  {
   "cell_type": "code",
   "execution_count": 5,
   "metadata": {
    "slideshow": {
     "slide_type": "subslide"
    }
   },
   "outputs": [
    {
     "name": "stdout",
     "output_type": "stream",
     "text": [
      "[9.8921335  3.85597283 4.99495948 4.11353813]\n",
      "2    9.892134\n",
      "3    3.855973\n",
      "4    4.994959\n",
      "6    4.113538\n",
      "dtype: float64\n",
      "1          NaN\n",
      "2    10.090341\n",
      "3     4.369448\n",
      "4     5.293305\n",
      "Name: lnX, dtype: float64\n",
      "2    0.198207\n",
      "3    0.513475\n",
      "4    0.298345\n",
      "6    0.897097\n",
      "dtype: float64\n",
      "1         NaN\n",
      "2    0.198207\n",
      "3    0.513475\n",
      "4    0.298345\n",
      "6         NaN\n",
      "dtype: float64\n"
     ]
    }
   ],
   "source": [
    "\n",
    "ypred=model.predict()\n",
    "print(ypred[1:5])\n",
    "print(model.fittedvalues[1:5])\n",
    "print(trade76.lnX[1:5])\n",
    "#yres=model.residual()\n",
    "dir(model)\n",
    "print(model.resid_working[1:5])\n",
    "print(trade76.lnX[1:5]-model.fittedvalues[1:5])"
   ]
  },
  {
   "cell_type": "markdown",
   "metadata": {
    "slideshow": {
     "slide_type": "slide"
    }
   },
   "source": [
    "# Logit\n",
    "Finally we can run a couple of logit models\n",
    "Neither fit of the model we run is that good. \n",
    "But we are just using Python to play around. \n",
    "The first model we run on the full sample to see if anything influences GATT membership.\n",
    "None of these variables shold. "
   ]
  },
  {
   "cell_type": "code",
   "execution_count": 6,
   "metadata": {
    "slideshow": {
     "slide_type": "subslide"
    }
   },
   "outputs": [
    {
     "name": "stdout",
     "output_type": "stream",
     "text": [
      "                 Generalized Linear Model Regression Results                  \n",
      "==============================================================================\n",
      "Dep. Variable:                 gatt_d   No. Observations:                  145\n",
      "Model:                            GLM   Df Residuals:                      141\n",
      "Model Family:                Binomial   Df Model:                            3\n",
      "Link Function:                  logit   Scale:                             1.0\n",
      "Method:                          IRLS   Log-Likelihood:                -91.442\n",
      "Date:                Tue, 22 May 2018   Deviance:                       182.88\n",
      "Time:                        16:58:59   Pearson chi2:                     144.\n",
      "No. Iterations:                     4                                         \n",
      "==============================================================================\n",
      "                 coef    std err          z      P>|z|      [0.025      0.975]\n",
      "------------------------------------------------------------------------------\n",
      "Intercept     -3.6099      3.463     -1.042      0.297     -10.397       3.177\n",
      "lnpromote     -0.0587      0.146     -0.403      0.687      -0.344       0.227\n",
      "lndistw        0.1092      0.373      0.293      0.770      -0.621       0.840\n",
      "lngdp          0.3658      0.124      2.951      0.003       0.123       0.609\n",
      "==============================================================================\n",
      "['__class__', '__delattr__', '__dict__', '__dir__', '__doc__', '__eq__', '__format__', '__ge__', '__getattribute__', '__gt__', '__hash__', '__init__', '__init_subclass__', '__le__', '__lt__', '__module__', '__ne__', '__new__', '__reduce__', '__reduce_ex__', '__repr__', '__setattr__', '__sizeof__', '__str__', '__subclasshook__', '__weakref__', '_cache', '_data_attr', '_data_attr_model', '_endog', '_freq_weights', '_get_robustcov_results', '_n_trials', 'aic', 'bic', 'bse', 'conf_int', 'converged', 'cov_kwds', 'cov_params', 'cov_type', 'data_in_cache', 'deviance', 'df_model', 'df_resid', 'f_test', 'family', 'fit_history', 'fittedvalues', 'get_prediction', 'initialize', 'k_constant', 'llf', 'llnull', 'load', 'method', 'model', 'mu', 'nobs', 'normalized_cov_params', 'null', 'null_deviance', 'params', 'pearson_chi2', 'pinv_wexog', 'plot_added_variable', 'plot_ceres_residuals', 'plot_partial_residuals', 'predict', 'pvalues', 'remove_data', 'resid_anscombe', 'resid_deviance', 'resid_pearson', 'resid_response', 'resid_working', 'save', 'scale', 'summary', 'summary2', 't_test', 'tvalues', 'use_t', 'wald_test', 'wald_test_terms']\n",
      "[0.80442101 0.34719502 0.36229396 0.66687345]\n",
      "2    0.804421\n",
      "3    0.347195\n",
      "4    0.362294\n",
      "5    0.666873\n",
      "dtype: float64\n",
      "{'params': [inf, array([0., 0., 0., 0.]), array([-3.98035856, -0.04805675,  0.12753578,  0.38688493]), array([-3.60158973, -0.05874913,  0.10881192,  0.36519827]), array([-3.60984614, -0.05872222,  0.10916037,  0.36583766]), array([-3.60985014, -0.0587223 ,  0.10916048,  0.36583807])], 'deviance': [inf, 83.42780101101644, 182.99391271841398, 182.8848895707713, 182.88483021805297, 182.88483021803404], 'iteration': 4}\n"
     ]
    }
   ],
   "source": [
    "logit1 = smf.glm('gatt_d~lnpromote+ lndistw + lngdp', data=trade76, family=sm.families.Binomial()).fit()\n",
    "print(logit1.summary())\n",
    "print(dir(logit1))\n",
    "print(logit1.predict()[1:5])\n",
    "print(logit1.fittedvalues[1:5])\n",
    "print(logit1.fit_history)"
   ]
  },
  {
   "cell_type": "markdown",
   "metadata": {
    "slideshow": {
     "slide_type": "slide"
    }
   },
   "source": [
    "# Prediction\n",
    "Now we will run the model only on the first 100 observations and then get the predicted probability. \n",
    "We can use this to see how well we predict out of sample."
   ]
  },
  {
   "cell_type": "code",
   "execution_count": 7,
   "metadata": {
    "slideshow": {
     "slide_type": "subslide"
    }
   },
   "outputs": [
    {
     "name": "stdout",
     "output_type": "stream",
     "text": [
      "The mean predicted probability is 0.7264193851105184 \n",
      "\n",
      "The minimum predicted probability is 0.4032396763723633 \n",
      "\n",
      "     gatt_d         0\n",
      "101     0.0  0.829161\n",
      "102     0.0  0.736877\n",
      "103     1.0  0.769897\n",
      "104     1.0  0.725456\n",
      "105     0.0  0.595249\n",
      "106     0.0  0.670451\n",
      "107     0.0  0.748375\n",
      "108     0.0  0.856034\n",
      "109     0.0       NaN\n"
     ]
    }
   ],
   "source": [
    "logit2 = smf.glm('gatt_d~lnpromote+  lngdp+lnX', data=trade76[1:100], family=sm.families.Binomial()).fit()\n",
    "logit2.summary()\n",
    "oos = logit2.predict(trade76)\n",
    "print(\"The mean predicted probability is\", oos.mean(), \"\\n\")\n",
    "print(\"The minimum predicted probability is\", oos.min(), \"\\n\")\n",
    "ooscomp = pd.concat([trade76['gatt_d'],oos],1, names=[\"gatt\",\"oos\"])\n",
    "print(ooscomp[101:110])"
   ]
  },
  {
   "cell_type": "markdown",
   "metadata": {
    "slideshow": {
     "slide_type": "slide"
    }
   },
   "source": [
    "# Minimum value of prediction\n",
    "We can see whether the minimum predicted value correctly predicted the country as not in the GATT."
   ]
  },
  {
   "cell_type": "code",
   "execution_count": 8,
   "metadata": {
    "slideshow": {
     "slide_type": "subslide"
    }
   },
   "outputs": [
    {
     "name": "stdout",
     "output_type": "stream",
     "text": [
      "0.4032396763723633\n",
      "gatt_d    0.00000\n",
      "oos       0.40324\n",
      "Name: 130, dtype: float64\n"
     ]
    },
    {
     "data": {
      "text/html": [
       "<div>\n",
       "<style scoped>\n",
       "    .dataframe tbody tr th:only-of-type {\n",
       "        vertical-align: middle;\n",
       "    }\n",
       "\n",
       "    .dataframe tbody tr th {\n",
       "        vertical-align: top;\n",
       "    }\n",
       "\n",
       "    .dataframe thead th {\n",
       "        text-align: right;\n",
       "    }\n",
       "</style>\n",
       "<table border=\"1\" class=\"dataframe\">\n",
       "  <thead>\n",
       "    <tr style=\"text-align: right;\">\n",
       "      <th></th>\n",
       "      <th>gatt_d</th>\n",
       "      <th>oos</th>\n",
       "    </tr>\n",
       "  </thead>\n",
       "  <tbody>\n",
       "    <tr>\n",
       "      <th>4</th>\n",
       "      <td>0.0</td>\n",
       "      <td>0.459642</td>\n",
       "    </tr>\n",
       "    <tr>\n",
       "      <th>10</th>\n",
       "      <td>1.0</td>\n",
       "      <td>0.495357</td>\n",
       "    </tr>\n",
       "    <tr>\n",
       "      <th>19</th>\n",
       "      <td>0.0</td>\n",
       "      <td>0.424109</td>\n",
       "    </tr>\n",
       "    <tr>\n",
       "      <th>21</th>\n",
       "      <td>0.0</td>\n",
       "      <td>0.428232</td>\n",
       "    </tr>\n",
       "    <tr>\n",
       "      <th>27</th>\n",
       "      <td>1.0</td>\n",
       "      <td>0.473827</td>\n",
       "    </tr>\n",
       "    <tr>\n",
       "      <th>28</th>\n",
       "      <td>0.0</td>\n",
       "      <td>0.492307</td>\n",
       "    </tr>\n",
       "    <tr>\n",
       "      <th>82</th>\n",
       "      <td>0.0</td>\n",
       "      <td>0.441925</td>\n",
       "    </tr>\n",
       "    <tr>\n",
       "      <th>130</th>\n",
       "      <td>0.0</td>\n",
       "      <td>0.403240</td>\n",
       "    </tr>\n",
       "  </tbody>\n",
       "</table>\n",
       "</div>"
      ],
      "text/plain": [
       "     gatt_d       oos\n",
       "4       0.0  0.459642\n",
       "10      1.0  0.495357\n",
       "19      0.0  0.424109\n",
       "21      0.0  0.428232\n",
       "27      1.0  0.473827\n",
       "28      0.0  0.492307\n",
       "82      0.0  0.441925\n",
       "130     0.0  0.403240"
      ]
     },
     "execution_count": 8,
     "metadata": {},
     "output_type": "execute_result"
    }
   ],
   "source": [
    "trade76['oos']=oos\n",
    "print(trade76['oos'].min())\n",
    "print(trade76[['gatt_d','oos']].loc[trade76['oos'].idxmin()])\n",
    "trade76[['gatt_d','oos']][trade76['oos']<.5]"
   ]
  },
  {
   "cell_type": "code",
   "execution_count": null,
   "metadata": {},
   "outputs": [],
   "source": []
  }
 ],
 "metadata": {
  "celltoolbar": "Slideshow",
  "kernelspec": {
   "display_name": "Python 3",
   "language": "python",
   "name": "python3"
  },
  "language_info": {
   "codemirror_mode": {
    "name": "ipython",
    "version": 3
   },
   "file_extension": ".py",
   "mimetype": "text/x-python",
   "name": "python",
   "nbconvert_exporter": "python",
   "pygments_lexer": "ipython3",
   "version": "3.6.4"
  }
 },
 "nbformat": 4,
 "nbformat_minor": 2
}
