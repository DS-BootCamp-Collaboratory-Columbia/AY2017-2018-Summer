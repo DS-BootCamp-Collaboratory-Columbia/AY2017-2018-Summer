{
 "cells": [
  {
   "cell_type": "markdown",
   "metadata": {
    "slideshow": {
     "slide_type": "slide"
    }
   },
   "source": [
    "# Summary statistics in Python\n",
    "## Loading data\n",
    "Today we will cover summary statistics in Python. We will first import the various libraries we will use and open up the data that we saved yesterday.\n",
    "It's a good idea to look at the data too so we will print out the first 5 rows."
   ]
  },
  {
   "cell_type": "code",
   "execution_count": 52,
   "metadata": {
    "slideshow": {
     "slide_type": "subslide"
    }
   },
   "outputs": [
    {
     "name": "stdout",
     "output_type": "stream",
     "text": [
      "['.Rhistory', '2015_median_annual_hosehold_income.tsv', '2015_monthly_average_of_person_participating_in_food_stamp_program.tsv', '2016_presidential_election_results.tsv', 'bagofwords.html', 'bagofwords.Rmd', 'carter.pdf', 'Day1.zip', 'iran_ner.txt', 'jabberwocky.csv', 'lazarus.csv', 'legis.html', 'nyt.html', 'population_by_state.tsv', 'preselect', 'python', 'R', 'raven.do', 'ravenraw.csv', 'ravenraw.dta', 'state_abbreviations.tsv', 'test.html', 'test.Rmd', 'trade76.csv', 'tradesetup.do']\n"
     ]
    },
    {
     "data": {
      "text/html": [
       "<div>\n",
       "<style scoped>\n",
       "    .dataframe tbody tr th:only-of-type {\n",
       "        vertical-align: middle;\n",
       "    }\n",
       "\n",
       "    .dataframe tbody tr th {\n",
       "        vertical-align: top;\n",
       "    }\n",
       "\n",
       "    .dataframe thead th {\n",
       "        text-align: right;\n",
       "    }\n",
       "</style>\n",
       "<table border=\"1\" class=\"dataframe\">\n",
       "  <thead>\n",
       "    <tr style=\"text-align: right;\">\n",
       "      <th></th>\n",
       "      <th>State</th>\n",
       "      <th>Sum</th>\n",
       "      <th>Dem_EV</th>\n",
       "      <th>Rep_EV</th>\n",
       "      <th>Unalloc_EV</th>\n",
       "      <th>Clinton</th>\n",
       "      <th>Trump</th>\n",
       "      <th>Johnson</th>\n",
       "      <th>Other</th>\n",
       "      <th>tcdif</th>\n",
       "      <th>Participation</th>\n",
       "      <th>Abbr</th>\n",
       "      <th>Median_Income</th>\n",
       "      <th>Population</th>\n",
       "      <th>Trump_perc</th>\n",
       "      <th>fs_perc</th>\n",
       "      <th>vote_perc</th>\n",
       "      <th>Trump_win</th>\n",
       "    </tr>\n",
       "  </thead>\n",
       "  <tbody>\n",
       "    <tr>\n",
       "      <th>0</th>\n",
       "      <td>Alabama</td>\n",
       "      <td>2123372</td>\n",
       "      <td>0</td>\n",
       "      <td>9</td>\n",
       "      <td>0</td>\n",
       "      <td>729547</td>\n",
       "      <td>1318255</td>\n",
       "      <td>44467</td>\n",
       "      <td>31103</td>\n",
       "      <td>588708</td>\n",
       "      <td>889380</td>\n",
       "      <td>AL</td>\n",
       "      <td>44509</td>\n",
       "      <td>4863300</td>\n",
       "      <td>0.630060</td>\n",
       "      <td>0.182876</td>\n",
       "      <td>0.430216</td>\n",
       "      <td>True</td>\n",
       "    </tr>\n",
       "    <tr>\n",
       "      <th>1</th>\n",
       "      <td>Alaska</td>\n",
       "      <td>318608</td>\n",
       "      <td>0</td>\n",
       "      <td>3</td>\n",
       "      <td>0</td>\n",
       "      <td>116454</td>\n",
       "      <td>163387</td>\n",
       "      <td>18725</td>\n",
       "      <td>20042</td>\n",
       "      <td>46933</td>\n",
       "      <td>81121</td>\n",
       "      <td>AK</td>\n",
       "      <td>75112</td>\n",
       "      <td>738432</td>\n",
       "      <td>0.547239</td>\n",
       "      <td>0.109856</td>\n",
       "      <td>0.404324</td>\n",
       "      <td>True</td>\n",
       "    </tr>\n",
       "    <tr>\n",
       "      <th>2</th>\n",
       "      <td>Arizona</td>\n",
       "      <td>2604657</td>\n",
       "      <td>0</td>\n",
       "      <td>11</td>\n",
       "      <td>0</td>\n",
       "      <td>1161167</td>\n",
       "      <td>1252401</td>\n",
       "      <td>106327</td>\n",
       "      <td>84762</td>\n",
       "      <td>91234</td>\n",
       "      <td>999401</td>\n",
       "      <td>AZ</td>\n",
       "      <td>52248</td>\n",
       "      <td>6931071</td>\n",
       "      <td>0.497005</td>\n",
       "      <td>0.144191</td>\n",
       "      <td>0.363565</td>\n",
       "      <td>True</td>\n",
       "    </tr>\n",
       "    <tr>\n",
       "      <th>3</th>\n",
       "      <td>Arkansas</td>\n",
       "      <td>1130635</td>\n",
       "      <td>0</td>\n",
       "      <td>6</td>\n",
       "      <td>0</td>\n",
       "      <td>380494</td>\n",
       "      <td>684872</td>\n",
       "      <td>29829</td>\n",
       "      <td>35440</td>\n",
       "      <td>304378</td>\n",
       "      <td>468904</td>\n",
       "      <td>AR</td>\n",
       "      <td>42798</td>\n",
       "      <td>2988248</td>\n",
       "      <td>0.625343</td>\n",
       "      <td>0.156916</td>\n",
       "      <td>0.366501</td>\n",
       "      <td>True</td>\n",
       "    </tr>\n",
       "    <tr>\n",
       "      <th>4</th>\n",
       "      <td>California</td>\n",
       "      <td>14237884</td>\n",
       "      <td>55</td>\n",
       "      <td>0</td>\n",
       "      <td>0</td>\n",
       "      <td>8753788</td>\n",
       "      <td>4483810</td>\n",
       "      <td>478500</td>\n",
       "      <td>521786</td>\n",
       "      <td>-4269978</td>\n",
       "      <td>4417772</td>\n",
       "      <td>CA</td>\n",
       "      <td>63636</td>\n",
       "      <td>39250017</td>\n",
       "      <td>0.326901</td>\n",
       "      <td>0.112555</td>\n",
       "      <td>0.349455</td>\n",
       "      <td>False</td>\n",
       "    </tr>\n",
       "  </tbody>\n",
       "</table>\n",
       "</div>"
      ],
      "text/plain": [
       "        State       Sum  Dem_EV  Rep_EV  Unalloc_EV  Clinton    Trump  \\\n",
       "0     Alabama   2123372       0       9           0   729547  1318255   \n",
       "1      Alaska    318608       0       3           0   116454   163387   \n",
       "2     Arizona   2604657       0      11           0  1161167  1252401   \n",
       "3    Arkansas   1130635       0       6           0   380494   684872   \n",
       "4  California  14237884      55       0           0  8753788  4483810   \n",
       "\n",
       "   Johnson   Other    tcdif  Participation Abbr  Median_Income  Population  \\\n",
       "0    44467   31103   588708         889380   AL          44509     4863300   \n",
       "1    18725   20042    46933          81121   AK          75112      738432   \n",
       "2   106327   84762    91234         999401   AZ          52248     6931071   \n",
       "3    29829   35440   304378         468904   AR          42798     2988248   \n",
       "4   478500  521786 -4269978        4417772   CA          63636    39250017   \n",
       "\n",
       "   Trump_perc   fs_perc  vote_perc  Trump_win  \n",
       "0    0.630060  0.182876   0.430216       True  \n",
       "1    0.547239  0.109856   0.404324       True  \n",
       "2    0.497005  0.144191   0.363565       True  \n",
       "3    0.625343  0.156916   0.366501       True  \n",
       "4    0.326901  0.112555   0.349455      False  "
      ]
     },
     "execution_count": 52,
     "metadata": {},
     "output_type": "execute_result"
    }
   ],
   "source": [
    "import numpy as np\n",
    "import pandas as pd\n",
    "import matplotlib.pyplot as plt\n",
    "import os\n",
    "\n",
    "os.chdir('c:/Users/arpie71/Dropbox/Columbia/workshop')\n",
    "print(os.listdir('data/.'))\n",
    "df=pd.read_pickle('data/preselect')\n",
    "df.head(n=5)"
   ]
  },
  {
   "cell_type": "code",
   "execution_count": 53,
   "metadata": {
    "slideshow": {
     "slide_type": "subslide"
    }
   },
   "outputs": [
    {
     "data": {
      "text/html": [
       "<div>\n",
       "<style scoped>\n",
       "    .dataframe tbody tr th:only-of-type {\n",
       "        vertical-align: middle;\n",
       "    }\n",
       "\n",
       "    .dataframe tbody tr th {\n",
       "        vertical-align: top;\n",
       "    }\n",
       "\n",
       "    .dataframe thead th {\n",
       "        text-align: right;\n",
       "    }\n",
       "</style>\n",
       "<table border=\"1\" class=\"dataframe\">\n",
       "  <thead>\n",
       "    <tr style=\"text-align: right;\">\n",
       "      <th></th>\n",
       "      <th>State</th>\n",
       "      <th>Sum</th>\n",
       "      <th>Dem_EV</th>\n",
       "      <th>Rep_EV</th>\n",
       "      <th>Unalloc_EV</th>\n",
       "      <th>Clinton</th>\n",
       "      <th>Trump</th>\n",
       "      <th>Johnson</th>\n",
       "      <th>Other</th>\n",
       "      <th>tcdif</th>\n",
       "      <th>Participation</th>\n",
       "      <th>Abbr</th>\n",
       "      <th>Median_Income</th>\n",
       "      <th>Population</th>\n",
       "      <th>Trump_perc</th>\n",
       "      <th>fs_perc</th>\n",
       "      <th>vote_perc</th>\n",
       "      <th>Trump_win</th>\n",
       "    </tr>\n",
       "  </thead>\n",
       "  <tbody>\n",
       "    <tr>\n",
       "      <th>0</th>\n",
       "      <td>Alabama</td>\n",
       "      <td>2123372</td>\n",
       "      <td>0</td>\n",
       "      <td>9</td>\n",
       "      <td>0</td>\n",
       "      <td>729547</td>\n",
       "      <td>1318255</td>\n",
       "      <td>44467</td>\n",
       "      <td>31103</td>\n",
       "      <td>588708</td>\n",
       "      <td>889380</td>\n",
       "      <td>AL</td>\n",
       "      <td>44509</td>\n",
       "      <td>4863300</td>\n",
       "      <td>0.630060</td>\n",
       "      <td>0.182876</td>\n",
       "      <td>0.430216</td>\n",
       "      <td>True</td>\n",
       "    </tr>\n",
       "    <tr>\n",
       "      <th>1</th>\n",
       "      <td>Alaska</td>\n",
       "      <td>318608</td>\n",
       "      <td>0</td>\n",
       "      <td>3</td>\n",
       "      <td>0</td>\n",
       "      <td>116454</td>\n",
       "      <td>163387</td>\n",
       "      <td>18725</td>\n",
       "      <td>20042</td>\n",
       "      <td>46933</td>\n",
       "      <td>81121</td>\n",
       "      <td>AK</td>\n",
       "      <td>75112</td>\n",
       "      <td>738432</td>\n",
       "      <td>0.547239</td>\n",
       "      <td>0.109856</td>\n",
       "      <td>0.404324</td>\n",
       "      <td>True</td>\n",
       "    </tr>\n",
       "    <tr>\n",
       "      <th>2</th>\n",
       "      <td>Arizona</td>\n",
       "      <td>2604657</td>\n",
       "      <td>0</td>\n",
       "      <td>11</td>\n",
       "      <td>0</td>\n",
       "      <td>1161167</td>\n",
       "      <td>1252401</td>\n",
       "      <td>106327</td>\n",
       "      <td>84762</td>\n",
       "      <td>91234</td>\n",
       "      <td>999401</td>\n",
       "      <td>AZ</td>\n",
       "      <td>52248</td>\n",
       "      <td>6931071</td>\n",
       "      <td>0.497005</td>\n",
       "      <td>0.144191</td>\n",
       "      <td>0.363565</td>\n",
       "      <td>True</td>\n",
       "    </tr>\n",
       "    <tr>\n",
       "      <th>3</th>\n",
       "      <td>Arkansas</td>\n",
       "      <td>1130635</td>\n",
       "      <td>0</td>\n",
       "      <td>6</td>\n",
       "      <td>0</td>\n",
       "      <td>380494</td>\n",
       "      <td>684872</td>\n",
       "      <td>29829</td>\n",
       "      <td>35440</td>\n",
       "      <td>304378</td>\n",
       "      <td>468904</td>\n",
       "      <td>AR</td>\n",
       "      <td>42798</td>\n",
       "      <td>2988248</td>\n",
       "      <td>0.625343</td>\n",
       "      <td>0.156916</td>\n",
       "      <td>0.366501</td>\n",
       "      <td>True</td>\n",
       "    </tr>\n",
       "    <tr>\n",
       "      <th>4</th>\n",
       "      <td>California</td>\n",
       "      <td>14237884</td>\n",
       "      <td>55</td>\n",
       "      <td>0</td>\n",
       "      <td>0</td>\n",
       "      <td>8753788</td>\n",
       "      <td>4483810</td>\n",
       "      <td>478500</td>\n",
       "      <td>521786</td>\n",
       "      <td>-4269978</td>\n",
       "      <td>4417772</td>\n",
       "      <td>CA</td>\n",
       "      <td>63636</td>\n",
       "      <td>39250017</td>\n",
       "      <td>0.326901</td>\n",
       "      <td>0.112555</td>\n",
       "      <td>0.349455</td>\n",
       "      <td>False</td>\n",
       "    </tr>\n",
       "  </tbody>\n",
       "</table>\n",
       "</div>"
      ],
      "text/plain": [
       "        State       Sum  Dem_EV  Rep_EV  Unalloc_EV  Clinton    Trump  \\\n",
       "0     Alabama   2123372       0       9           0   729547  1318255   \n",
       "1      Alaska    318608       0       3           0   116454   163387   \n",
       "2     Arizona   2604657       0      11           0  1161167  1252401   \n",
       "3    Arkansas   1130635       0       6           0   380494   684872   \n",
       "4  California  14237884      55       0           0  8753788  4483810   \n",
       "\n",
       "   Johnson   Other    tcdif  Participation Abbr  Median_Income  Population  \\\n",
       "0    44467   31103   588708         889380   AL          44509     4863300   \n",
       "1    18725   20042    46933          81121   AK          75112      738432   \n",
       "2   106327   84762    91234         999401   AZ          52248     6931071   \n",
       "3    29829   35440   304378         468904   AR          42798     2988248   \n",
       "4   478500  521786 -4269978        4417772   CA          63636    39250017   \n",
       "\n",
       "   Trump_perc   fs_perc  vote_perc  Trump_win  \n",
       "0    0.630060  0.182876   0.430216       True  \n",
       "1    0.547239  0.109856   0.404324       True  \n",
       "2    0.497005  0.144191   0.363565       True  \n",
       "3    0.625343  0.156916   0.366501       True  \n",
       "4    0.326901  0.112555   0.349455      False  "
      ]
     },
     "execution_count": 53,
     "metadata": {},
     "output_type": "execute_result"
    }
   ],
   "source": [
    "df.head(n=5)"
   ]
  },
  {
   "cell_type": "markdown",
   "metadata": {
    "slideshow": {
     "slide_type": "slide"
    }
   },
   "source": [
    "## Sum\n",
    "In some ways Python and R are easy to use than Stata. Summing variables is one of those ways. To get the sum of a column in a dataframe, you can just attach .sum() to the end of the column name. Remember that because you could have multiple dataframes open at the same time, you will need to specify the dataframe and then the column within it. \n"
   ]
  },
  {
   "cell_type": "code",
   "execution_count": 54,
   "metadata": {
    "slideshow": {
     "slide_type": "subslide"
    }
   },
   "outputs": [
    {
     "name": "stdout",
     "output_type": "stream",
     "text": [
      "227\n"
     ]
    },
    {
     "data": {
      "text/plain": [
       "227"
      ]
     },
     "execution_count": 54,
     "metadata": {},
     "output_type": "execute_result"
    }
   ],
   "source": [
    "DEV = df['Dem_EV'].sum()\n",
    "print(DEV)\n",
    "df['Dem_EV'].sum()"
   ]
  },
  {
   "cell_type": "markdown",
   "metadata": {
    "slideshow": {
     "slide_type": "slide"
    }
   },
   "source": [
    "# Compare sums\n",
    "We can also use the functions directly in a print statement to compare different sums. \n",
    "Why is this useful? We could use that information to easily create new columns in the dataframe. \n",
    "As an aside, and this could be good or bad depending on your perspective, Python and R do not care if you already have a column with the name you are trying to assign. \n",
    "On the one hand, you don't have to worry about dropping a variable each time you want to create it. On the other hand, it is easier to make a mistake and overwrite an important variable.\n"
   ]
  },
  {
   "cell_type": "code",
   "execution_count": 55,
   "metadata": {
    "slideshow": {
     "slide_type": "subslide"
    }
   },
   "outputs": [
    {
     "name": "stdout",
     "output_type": "stream",
     "text": [
      "Clinton received 227 electoral votes and Trump received 304\n"
     ]
    }
   ],
   "source": [
    "print(\"Clinton received\", df['Dem_EV'].sum(), \"electoral votes and Trump received\", df['Rep_EV'].sum())\n",
    "df['DEVshare']=df['Dem_EV']/DEV\n"
   ]
  },
  {
   "cell_type": "markdown",
   "metadata": {
    "slideshow": {
     "slide_type": "slide"
    }
   },
   "source": [
    "## Mean\n",
    "Next we will explore how to get the mean values for a few slides. Other summary statistics work in much the same way and will be easier to figure out once we get some of the syntax options down.\n",
    "First, let's get the average median income across all states. \n",
    "Then we will get the mean of the column we just created (DEVshare).\n"
   ]
  },
  {
   "cell_type": "code",
   "execution_count": 56,
   "metadata": {
    "slideshow": {
     "slide_type": "subslide"
    }
   },
   "outputs": [
    {
     "name": "stdout",
     "output_type": "stream",
     "text": [
      "57011.333333333336\n"
     ]
    },
    {
     "data": {
      "text/plain": [
       "0.0196078431372549"
      ]
     },
     "execution_count": 56,
     "metadata": {},
     "output_type": "execute_result"
    }
   ],
   "source": [
    "print(df['Median_Income'].mean())\n",
    "df['DEVshare'].mean()"
   ]
  },
  {
   "cell_type": "markdown",
   "metadata": {
    "slideshow": {
     "slide_type": "slide"
    }
   },
   "source": [
    "## Subsetting\n",
    "Those looked okay but the percentage seems a little small. States that Clinton did not win will have a 0 value on DEVshare which might affect the mean. Also, what if we think there might be a difference in the median income of blue and red states. \n",
    "So we can subset the data and look at only rows where the Democrats received electoral votes.\n",
    "Recall indexing. With dataframes, the first bracket contains the column names we want to perform the operation on. We have seen this already, \n",
    "To subset by row, we need to tell Python the row values we want. We can use conditions to do so. This will go in a second set of brackets. \n",
    "We first give the column name and then the condition. Here we want to limit the mean to rows where the Democrat's electoral vote was not equal to 0. "
   ]
  },
  {
   "cell_type": "code",
   "execution_count": 57,
   "metadata": {
    "slideshow": {
     "slide_type": "subslide"
    }
   },
   "outputs": [
    {
     "name": "stdout",
     "output_type": "stream",
     "text": [
      "62892.28571428572\n",
      "0.047619047619047616\n",
      "0.06167400881057269\n",
      "DEVshare             0.047619\n",
      "Median_Income    62892.285714\n",
      "dtype: float64\n",
      "DEVshare             0.242291\n",
      "Median_Income    63636.000000\n",
      "dtype: float64\n"
     ]
    }
   ],
   "source": [
    "print(df['Median_Income'][df['Dem_EV']!=0].mean())\n",
    "print(df['DEVshare'][df['Dem_EV']!=0].mean())\n",
    "print(df['DEVshare'][30].mean())\n",
    "print(df[['DEVshare','Median_Income']][df['Dem_EV']!=0].mean())\n",
    "print(df[['DEVshare','Median_Income']][df['State']=='California'].mean())\n"
   ]
  },
  {
   "cell_type": "markdown",
   "metadata": {
    "slideshow": {
     "slide_type": "slide"
    }
   },
   "source": [
    "## Comparison\n",
    "Now we can compare the median income in blue and red states.\n",
    "But something does not look quite right. \n",
    "How can someone make 2/3 of a penny? "
   ]
  },
  {
   "cell_type": "code",
   "execution_count": 58,
   "metadata": {
    "slideshow": {
     "slide_type": "subslide"
    }
   },
   "outputs": [
    {
     "name": "stdout",
     "output_type": "stream",
     "text": [
      "52894.666666666664\n",
      "52825.67741935484\n"
     ]
    }
   ],
   "source": [
    "print(df['Median_Income'][df['Dem_EV']==0].mean())\n",
    "print(df['Median_Income'][df['Rep_EV']!=0].mean())\n"
   ]
  },
  {
   "cell_type": "markdown",
   "metadata": {
    "slideshow": {
     "slide_type": "slide"
    }
   },
   "source": [
    "### Rounding \n",
    "We will round the values to the nearest cent. Some of this is not necessarily because I believe that you will use it but that it might be helpful to understand the syntax and logic of Python. \n",
    "Python's syntax is to specify what is to be rounded and then the number of decimal places. \n",
    "With that in mind, we know to wrap the round option around the value we want the mean of and then the places we want. \n"
   ]
  },
  {
   "cell_type": "code",
   "execution_count": 59,
   "metadata": {
    "slideshow": {
     "slide_type": "subslide"
    }
   },
   "outputs": [
    {
     "name": "stdout",
     "output_type": "stream",
     "text": [
      "52894.67\n",
      "52825.68\n"
     ]
    }
   ],
   "source": [
    "print(round(df['Median_Income'][df['Dem_EV']==0].mean(),2))\n",
    "\n",
    "print(round(df['Median_Income'][df['Rep_EV']!=0].mean(),2))\n",
    "\n"
   ]
  },
  {
   "cell_type": "markdown",
   "metadata": {
    "slideshow": {
     "slide_type": "slide"
    }
   },
   "source": [
    "## Final checks\n",
    "There is a difference between the median income if we specify that Democratic electoral votes are equal to 0 and if we specify that Republican electoral votes are not equal to 0. Why should that be?"
   ]
  },
  {
   "cell_type": "code",
   "execution_count": 60,
   "metadata": {
    "slideshow": {
     "slide_type": "subslide"
    }
   },
   "outputs": [
    {
     "name": "stdout",
     "output_type": "stream",
     "text": [
      "7\n",
      "62743.333333333336\n",
      "11        Hawaii\n",
      "43         Texas\n",
      "47    Washington\n",
      "Name: State, dtype: object\n",
      "         State  Unalloc_EV  Dem_EV  Rep_EV\n",
      "11      Hawaii           1       3       0\n",
      "43       Texas           2       0      36\n",
      "47  Washington           4       8       0\n"
     ]
    }
   ],
   "source": [
    "print(df['Unalloc_EV'].sum())\n",
    "print(df['Median_Income'][df['Unalloc_EV']!=0].mean())\n",
    "print(df['State'][df['Unalloc_EV']!=0])\n",
    "print(df[['State','Unalloc_EV','Dem_EV','Rep_EV']][df['Unalloc_EV']!=0])"
   ]
  },
  {
   "cell_type": "markdown",
   "metadata": {
    "slideshow": {
     "slide_type": "slide"
    }
   },
   "source": [
    "# Other statistics\n",
    "This should give an introdution to the different ways we could calculate the mean. The syntax for other summary statistics such as the median, standard deviation, minimum, or maximum is the same. "
   ]
  },
  {
   "cell_type": "code",
   "execution_count": 61,
   "metadata": {
    "slideshow": {
     "slide_type": "subslide"
    }
   },
   "outputs": [
    {
     "name": "stdout",
     "output_type": "stream",
     "text": [
      "63636.0\n",
      "7941.63043803259\n",
      "75675\n",
      "45119\n",
      "-0.44967416155337103\n",
      "0.25    58005.0\n",
      "0.75    68357.0\n",
      "Name: Median_Income, dtype: float64\n"
     ]
    }
   ],
   "source": [
    "print(df['Median_Income'][df['Dem_EV']!=0].median())\n",
    "print(df['Median_Income'][df['Dem_EV']!=0].std())\n",
    "print(df['Median_Income'][df['Dem_EV']!=0].max())\n",
    "print(df['Median_Income'][df['Dem_EV']!=0].min())\n",
    "print(df['Median_Income'][df['Dem_EV']!=0].skew())\n",
    "print(df['Median_Income'][df['Dem_EV']!=0].quantile([.25,.75]))\n"
   ]
  },
  {
   "cell_type": "markdown",
   "metadata": {
    "slideshow": {
     "slide_type": "slide"
    }
   },
   "source": [
    "# Finally \n",
    "What if we want a summary of the entire dataset?\n",
    "Pandas has a describe option that will give you many summary statistics for the columns in the data. We can subset the columns and also the rows using similar syntax as before. \n",
    "In the lab session you will be able to explore the data in more detail calculating different statistics to get a feel for Python's syntax. "
   ]
  },
  {
   "cell_type": "code",
   "execution_count": 62,
   "metadata": {
    "slideshow": {
     "slide_type": "subslide"
    }
   },
   "outputs": [
    {
     "data": {
      "text/html": [
       "<div>\n",
       "<style scoped>\n",
       "    .dataframe tbody tr th:only-of-type {\n",
       "        vertical-align: middle;\n",
       "    }\n",
       "\n",
       "    .dataframe tbody tr th {\n",
       "        vertical-align: top;\n",
       "    }\n",
       "\n",
       "    .dataframe thead th {\n",
       "        text-align: right;\n",
       "    }\n",
       "</style>\n",
       "<table border=\"1\" class=\"dataframe\">\n",
       "  <thead>\n",
       "    <tr style=\"text-align: right;\">\n",
       "      <th></th>\n",
       "      <th>Dem_EV</th>\n",
       "      <th>Rep_EV</th>\n",
       "      <th>Unalloc_EV</th>\n",
       "    </tr>\n",
       "  </thead>\n",
       "  <tbody>\n",
       "    <tr>\n",
       "      <th>count</th>\n",
       "      <td>21.000000</td>\n",
       "      <td>21.000000</td>\n",
       "      <td>21.000000</td>\n",
       "    </tr>\n",
       "    <tr>\n",
       "      <th>mean</th>\n",
       "      <td>10.809524</td>\n",
       "      <td>0.047619</td>\n",
       "      <td>0.238095</td>\n",
       "    </tr>\n",
       "    <tr>\n",
       "      <th>std</th>\n",
       "      <td>11.998413</td>\n",
       "      <td>0.218218</td>\n",
       "      <td>0.889087</td>\n",
       "    </tr>\n",
       "    <tr>\n",
       "      <th>min</th>\n",
       "      <td>3.000000</td>\n",
       "      <td>0.000000</td>\n",
       "      <td>0.000000</td>\n",
       "    </tr>\n",
       "    <tr>\n",
       "      <th>25%</th>\n",
       "      <td>4.000000</td>\n",
       "      <td>0.000000</td>\n",
       "      <td>0.000000</td>\n",
       "    </tr>\n",
       "    <tr>\n",
       "      <th>50%</th>\n",
       "      <td>7.000000</td>\n",
       "      <td>0.000000</td>\n",
       "      <td>0.000000</td>\n",
       "    </tr>\n",
       "    <tr>\n",
       "      <th>75%</th>\n",
       "      <td>11.000000</td>\n",
       "      <td>0.000000</td>\n",
       "      <td>0.000000</td>\n",
       "    </tr>\n",
       "    <tr>\n",
       "      <th>max</th>\n",
       "      <td>55.000000</td>\n",
       "      <td>1.000000</td>\n",
       "      <td>4.000000</td>\n",
       "    </tr>\n",
       "  </tbody>\n",
       "</table>\n",
       "</div>"
      ],
      "text/plain": [
       "          Dem_EV     Rep_EV  Unalloc_EV\n",
       "count  21.000000  21.000000   21.000000\n",
       "mean   10.809524   0.047619    0.238095\n",
       "std    11.998413   0.218218    0.889087\n",
       "min     3.000000   0.000000    0.000000\n",
       "25%     4.000000   0.000000    0.000000\n",
       "50%     7.000000   0.000000    0.000000\n",
       "75%    11.000000   0.000000    0.000000\n",
       "max    55.000000   1.000000    4.000000"
      ]
     },
     "execution_count": 62,
     "metadata": {},
     "output_type": "execute_result"
    }
   ],
   "source": [
    "df.describe()\n",
    "df[['Dem_EV','Rep_EV','Unalloc_EV']].describe()\n",
    "df[['Dem_EV','Rep_EV','Unalloc_EV']][df['Dem_EV']!=0].describe()"
   ]
  },
  {
   "cell_type": "code",
   "execution_count": 63,
   "metadata": {
    "slideshow": {
     "slide_type": "skip"
    }
   },
   "outputs": [
    {
     "name": "stdout",
     "output_type": "stream",
     "text": [
      "             State  Dem_EV\n",
      "0          Alabama       0\n",
      "1           Alaska       0\n",
      "2          Arizona       0\n",
      "3         Arkansas       0\n",
      "9          Florida       0\n",
      "10         Georgia       0\n",
      "12           Idaho       0\n",
      "14         Indiana       0\n",
      "15            Iowa       0\n",
      "16          Kansas       0\n",
      "17        Kentucky       0\n",
      "18       Louisiana       0\n",
      "19           Maine       3\n",
      "22        Michigan       0\n",
      "24     Mississippi       0\n",
      "25        Missouri       0\n",
      "26         Montana       0\n",
      "27        Nebraska       0\n",
      "33  North Carolina       0\n",
      "34    North Dakota       0\n",
      "35            Ohio       0\n",
      "36        Oklahoma       0\n",
      "38    Pennsylvania       0\n",
      "40  South Carolina       0\n",
      "41    South Dakota       0\n",
      "42       Tennessee       0\n",
      "43           Texas       0\n",
      "44            Utah       0\n",
      "48   West Virginia       0\n",
      "49       Wisconsin       0\n",
      "50         Wyoming       0\n"
     ]
    }
   ],
   "source": [
    "print(df[['State','Dem_EV']][df['Rep_EV']!=0])"
   ]
  },
  {
   "cell_type": "code",
   "execution_count": null,
   "metadata": {},
   "outputs": [],
   "source": []
  }
 ],
 "metadata": {
  "celltoolbar": "Slideshow",
  "kernelspec": {
   "display_name": "Python 3",
   "language": "python",
   "name": "python3"
  },
  "language_info": {
   "codemirror_mode": {
    "name": "ipython",
    "version": 3
   },
   "file_extension": ".py",
   "mimetype": "text/x-python",
   "name": "python",
   "nbconvert_exporter": "python",
   "pygments_lexer": "ipython3",
   "version": "3.6.4"
  }
 },
 "nbformat": 4,
 "nbformat_minor": 2
}
